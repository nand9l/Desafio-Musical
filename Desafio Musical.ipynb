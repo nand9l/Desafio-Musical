{
 "cells": [
  {
   "cell_type": "code",
   "execution_count": 20,
   "metadata": {},
   "outputs": [
    {
     "name": "stdout",
     "output_type": "stream",
     "text": [
      "5 foram passear, além das montanhas para brincar, mamãe gritou: Quá, qua, qua, qua, mas só 4 voltaram de lá\n",
      "4 foram passear, além das montanhas para brincar, mamãe gritou: Quá, qua, qua, qua, mas só 3 voltaram de lá\n",
      "3 foram passear, além das montanhas para brincar, mamãe gritou: Quá, qua, qua, qua, mas só 2 voltaram de lá\n",
      "2 foram passear, além das montanhas para brincar, mamãe gritou: Quá, qua, qua, qua, mas só 1 voltaram de lá\n",
      "1 foi passear, além das montanhas para brincar, mamãe gritou: Quá, qua, qua, qua, mas nenhum patinho voltou de lá\n"
     ]
    }
   ],
   "source": [
    "for patinhos in [5,4,3,2,1]:\n",
    "    if (patinhos > 1):\n",
    "        print (f'{patinhos} foram passear, além das montanhas para brincar, mamãe gritou: Quá, qua, qua, qua, mas só {patinhos - 1} voltaram de lá')\n",
    "    else: \n",
    "        print (f'{patinhos} foi passear, além das montanhas para brincar, mamãe gritou: Quá, qua, qua, qua, mas nenhum patinho voltou de lá')"
   ]
  },
  {
   "cell_type": "code",
   "execution_count": 54,
   "metadata": {},
   "outputs": [
    {
     "name": "stdout",
     "output_type": "stream",
     "text": [
      "1 elefantes incomoda muita gente, 2 elefantes incomodam incomodam muito mais\n",
      "2 elefantes incomodam muita gente, 3 elefantes incomodam incomodam incomodam muito mais\n",
      "3 elefantes incomodam muita gente, 4 elefantes incomodam incomodam incomodam incomodam muito mais\n",
      "4 elefantes incomodam muita gente, 5 elefantes incomodam incomodam incomodam incomodam incomodam muito mais\n",
      "5 elefantes incomodam muita gente, 6 elefantes incomodam incomodam incomodam incomodam incomodam incomodam muito mais\n",
      "6 elefantes incomodam muita gente, 7 elefantes incomodam incomodam incomodam incomodam incomodam incomodam incomodam muito mais\n",
      "7 elefantes incomodam muita gente, 8 elefantes incomodam incomodam incomodam incomodam incomodam incomodam incomodam incomodam muito mais\n",
      "8 elefantes incomodam muita gente, 9 elefantes incomodam incomodam incomodam incomodam incomodam incomodam incomodam incomodam incomodam muito mais\n",
      "9 elefantes incomodam muita gente, 10 elefantes incomodam incomodam incomodam incomodam incomodam incomodam incomodam incomodam incomodam incomodam muito mais\n"
     ]
    }
   ],
   "source": [
    "\n",
    "for elefantes in [ 1, 2, 3, 4, 5, 6, 7, 8, 9]:\n",
    "    if (elefantes >= 2):\n",
    "        print (f'{elefantes} elefantes incomodam muita gente, {elefantes+1} elefantes' + ' incomodam'*(elefantes+1) + ' muito mais')\n",
    "    else: \n",
    "        print (f'{elefantes} elefantes incomoda muita gente, {elefantes+1} elefantes' + ' incomodam'*(elefantes+1) + ' muito mais')\n",
    "        \n",
    "    "
   ]
  },
  {
   "cell_type": "code",
   "execution_count": 53,
   "metadata": {},
   "outputs": [
    {
     "name": "stdout",
     "output_type": "stream",
     "text": [
      "9 elefantes incomodam muita gente, 8 elefantes incomodam incomodam incomodam incomodam incomodam incomodam incomodam incomodam muito menos\n",
      "8 elefantes incomodam muita gente, 7 elefantes incomodam incomodam incomodam incomodam incomodam incomodam incomodam muito menos\n",
      "7 elefantes incomodam muita gente, 6 elefantes incomodam incomodam incomodam incomodam incomodam incomodam muito menos\n",
      "6 elefantes incomodam muita gente, 5 elefantes incomodam incomodam incomodam incomodam incomodam muito menos\n",
      "5 elefantes incomodam muita gente, 4 elefantes incomodam incomodam incomodam incomodam muito menos\n",
      "4 elefantes incomodam muita gente, 3 elefantes incomodam incomodam incomodam muito menos\n",
      "3 elefantes incomodam muita gente, 2 elefantes incomodam incomodam muito menos\n",
      "2 elefantes incomodam muita gente, 1 elefantes incomodam muito menos\n",
      "1 elefante incomoda muita menos\n"
     ]
    }
   ],
   "source": [
    "\n",
    "for elefantes in [9,8,7,6,5,4,3,2,1]:\n",
    "    if (elefantes >=2):\n",
    "        print (f'{elefantes} elefantes incomodam muita gente, {elefantes-1} elefantes' + ' incomodam'*(elefantes-1) + ' muito menos')\n",
    "    else: \n",
    "        print (f'{elefantes} elefante incomoda muita menos')"
   ]
  },
  {
   "cell_type": "code",
   "execution_count": 84,
   "metadata": {},
   "outputs": [
    {
     "name": "stdout",
     "output_type": "stream",
     "text": [
      "Mariana conta 1\n",
      "Marina conta 1: \n",
      "é 1, é 1 é Ana\n",
      "Viva Mariana, viva Mariana\n",
      "\n",
      "Mariana conta 2\n",
      "Marina conta 2: \n",
      "é 1, é 1 é Ana\n",
      "é 2, é 2 é Ana\n",
      "Viva Mariana, viva Mariana\n",
      "\n",
      "Mariana conta 3\n",
      "Marina conta 3: \n",
      "é 1, é 1 é Ana\n",
      "é 2, é 2 é Ana\n",
      "é 3, é 3 é Ana\n",
      "Viva Mariana, viva Mariana\n",
      "\n",
      "Mariana conta 4\n",
      "Marina conta 4: \n",
      "é 1, é 1 é Ana\n",
      "é 2, é 2 é Ana\n",
      "é 3, é 3 é Ana\n",
      "é 4, é 4 é Ana\n",
      "Viva Mariana, viva Mariana\n",
      "\n",
      "Mariana conta 5\n",
      "Marina conta 5: \n",
      "é 1, é 1 é Ana\n",
      "é 2, é 2 é Ana\n",
      "é 3, é 3 é Ana\n",
      "é 4, é 4 é Ana\n",
      "é 5, é 5 é Ana\n",
      "Viva Mariana, viva Mariana\n",
      "\n",
      "Mariana conta 6\n",
      "Marina conta 6: \n",
      "é 1, é 1 é Ana\n",
      "é 2, é 2 é Ana\n",
      "é 3, é 3 é Ana\n",
      "é 4, é 4 é Ana\n",
      "é 5, é 5 é Ana\n",
      "é 6, é 6 é Ana\n",
      "Viva Mariana, viva Mariana\n",
      "\n",
      "Mariana conta 7\n",
      "Marina conta 7: \n",
      "é 1, é 1 é Ana\n",
      "é 2, é 2 é Ana\n",
      "é 3, é 3 é Ana\n",
      "é 4, é 4 é Ana\n",
      "é 5, é 5 é Ana\n",
      "é 6, é 6 é Ana\n",
      "é 7, é 7 é Ana\n",
      "Viva Mariana, viva Mariana\n",
      "\n",
      "Mariana conta 8\n",
      "Marina conta 8: \n",
      "é 1, é 1 é Ana\n",
      "é 2, é 2 é Ana\n",
      "é 3, é 3 é Ana\n",
      "é 4, é 4 é Ana\n",
      "é 5, é 5 é Ana\n",
      "é 6, é 6 é Ana\n",
      "é 7, é 7 é Ana\n",
      "é 8, é 8 é Ana\n",
      "Viva Mariana, viva Mariana\n",
      "\n",
      "Mariana conta 9\n",
      "Marina conta 9: \n",
      "é 1, é 1 é Ana\n",
      "é 2, é 2 é Ana\n",
      "é 3, é 3 é Ana\n",
      "é 4, é 4 é Ana\n",
      "é 5, é 5 é Ana\n",
      "é 6, é 6 é Ana\n",
      "é 7, é 7 é Ana\n",
      "é 8, é 8 é Ana\n",
      "é 9, é 9 é Ana\n",
      "Viva Mariana, viva Mariana\n",
      "\n"
     ]
    }
   ],
   "source": [
    "for mariana in [1,2,3,4,5,6,7,8,9]:\n",
    "    if (mariana > 0):\n",
    "        print (f'Mariana conta {mariana}')\n",
    "        print (f'Marina conta {mariana}: ')\n",
    "        for numero in range(1, mariana + 1):\n",
    "            print(f'é {numero}, é {numero} é Ana')\n",
    "        print ('Viva Mariana, viva Mariana\\n')"
   ]
  },
  {
   "cell_type": "code",
   "execution_count": null,
   "metadata": {},
   "outputs": [],
   "source": [
    "contador = 1 \n",
    "while "
   ]
  }
 ],
 "metadata": {
  "kernelspec": {
   "display_name": "Python 3",
   "language": "python",
   "name": "python3"
  },
  "language_info": {
   "codemirror_mode": {
    "name": "ipython",
    "version": 3
   },
   "file_extension": ".py",
   "mimetype": "text/x-python",
   "name": "python",
   "nbconvert_exporter": "python",
   "pygments_lexer": "ipython3",
   "version": "3.11.9"
  }
 },
 "nbformat": 4,
 "nbformat_minor": 2
}
